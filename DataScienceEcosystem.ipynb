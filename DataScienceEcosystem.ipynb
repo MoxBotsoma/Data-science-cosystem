{
 "cells": [
  {
   "cell_type": "markdown",
   "id": "c7f11052-b942-4bb8-b3fc-d649003f6e88",
   "metadata": {},
   "source": [
    "# Data Science Tools and Ecosystem"
   ]
  },
  {
   "cell_type": "markdown",
   "id": "6a826bfc-ac97-40c1-a0d0-c8fd78dfa4b8",
   "metadata": {},
   "source": [
    "In this notebook, Data Science Tools and Ecosystem are summarized.\n",
    " **Objectives:**\n",
    "- List common Data sceince Libraries \n",
    "- List Common Data Lanugages used by Data scientists\n",
    "- Compute Hours given minutes"
   ]
  },
  {
   "cell_type": "code",
   "execution_count": null,
   "id": "709eef43-5cf2-4934-9636-f61070d63e5d",
   "metadata": {},
   "outputs": [],
   "source": [
    "Some of the popular languages that Data Scientists use are:\n",
    "1.Pythgon\n",
    "2.R\n",
    "3.Julia"
   ]
  },
  {
   "cell_type": "markdown",
   "id": "9f52d2bc-abae-445a-9d12-8bec8c16be7a",
   "metadata": {},
   "source": [
    "Some of the commonly used libraries used by Data Scientists include:\n",
    "* 1.Numpy\n",
    "* 2.Pandas\n",
    "* 3.Seaborn\n",
    "* 4.Matplotlib\n",
    "* 5.Keras\n",
    "* 6.Tensorflow"
   ]
  },
  {
   "cell_type": "markdown",
   "id": "27c23798-f37f-453c-baa3-4eb3ed27a4a0",
   "metadata": {},
   "source": [
    "|Data Science Tools|\n",
    "--------------------\n",
    "|Jupyter Notebook  |\n",
    "|Spyder            |\n",
    "|RStudio           |"
   ]
  },
  {
   "cell_type": "markdown",
   "id": "0e5cb9ff-98e1-4d5f-9e39-16ab99ecf47d",
   "metadata": {},
   "source": [
    "### Below are a few examples of evaluating arithmetic expressions in Python\n"
   ]
  },
  {
   "cell_type": "code",
   "execution_count": 12,
   "id": "3dca71d9-a024-4e1f-af15-1c2b42b2f458",
   "metadata": {},
   "outputs": [
    {
     "data": {
      "text/plain": [
       "17"
      ]
     },
     "execution_count": 12,
     "metadata": {},
     "output_type": "execute_result"
    }
   ],
   "source": [
    "# This a simple arithmetic expression to mutiply then add integers\n",
    "(3*4)+5"
   ]
  },
  {
   "cell_type": "code",
   "execution_count": 13,
   "id": "e981712d-35f7-41f2-85c5-9b3e50b6fa9c",
   "metadata": {},
   "outputs": [
    {
     "data": {
      "text/plain": [
       "3.3333333333333335"
      ]
     },
     "execution_count": 13,
     "metadata": {},
     "output_type": "execute_result"
    }
   ],
   "source": [
    "# This will convert 200 minutes to hours by diving by 60.\n",
    "200/60"
   ]
  },
  {
   "cell_type": "markdown",
   "id": "8d4e6422-be25-4e93-8ccb-1d0a787365d1",
   "metadata": {},
   "source": [
    "## Author \n",
    " Mokganedi Botsoma"
   ]
  },
  {
   "cell_type": "code",
   "execution_count": null,
   "id": "951b0d3e-e5c8-4d1e-80e7-b402f9164139",
   "metadata": {},
   "outputs": [],
   "source": []
  }
 ],
 "metadata": {
  "kernelspec": {
   "display_name": "Python 3 (ipykernel)",
   "language": "python",
   "name": "python3"
  },
  "language_info": {
   "codemirror_mode": {
    "name": "ipython",
    "version": 3
   },
   "file_extension": ".py",
   "mimetype": "text/x-python",
   "name": "python",
   "nbconvert_exporter": "python",
   "pygments_lexer": "ipython3",
   "version": "3.12.7"
  }
 },
 "nbformat": 4,
 "nbformat_minor": 5
}
